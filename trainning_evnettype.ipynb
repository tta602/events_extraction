{
 "cells": [
  {
   "cell_type": "code",
   "execution_count": 1,
   "id": "d1c00b01",
   "metadata": {},
   "outputs": [
    {
     "name": "stderr",
     "output_type": "stream",
     "text": [
      "/Users/huutainguyen/development/2025_code/event_extraction/.venv/lib/python3.11/site-packages/tqdm/auto.py:21: TqdmWarning: IProgress not found. Please update jupyter and ipywidgets. See https://ipywidgets.readthedocs.io/en/stable/user_install.html\n",
      "  from .autonotebook import tqdm as notebook_tqdm\n"
     ]
    }
   ],
   "source": [
    "import json\n",
    "import torch\n",
    "import time\n",
    "from torch.utils.data import Dataset, DataLoader\n",
    "from transformers import AutoTokenizer, AutoModelForSequenceClassification\n",
    "from tqdm import tqdm\n",
    "from torch.utils.data import DataLoader\n",
    "import torch\n",
    "import os\n",
    "from src.eventtriplet_dataset import EventTripletDataset\n",
    "from src.eventtype_finetune import EventRetrieverFineTune, EventRetrieverTrainer\n",
    "from src.utils.device_util import getDeviceInfo\n",
    "from src.utils.data_utils import build_label_maps, build_labels\n",
    "from src.eventtype_retriever import EventTypeRetriever\n",
    "from src.wikievents_dataset import WikiEventsSentenceDataset"
   ]
  },
  {
   "cell_type": "code",
   "execution_count": 2,
   "id": "c50a96f0",
   "metadata": {},
   "outputs": [
    {
     "name": "stdout",
     "output_type": "stream",
     "text": [
      "Device info::: mps\n"
     ]
    }
   ],
   "source": [
    "device = getDeviceInfo()\n",
    "print(f\"Device info::: {device}\")"
   ]
  },
  {
   "cell_type": "code",
   "execution_count": 3,
   "id": "be0e5026",
   "metadata": {},
   "outputs": [],
   "source": [
    "MODEL_NAME = \"roberta-base\"\n",
    "\n",
    "MAX_LENGTH = 128\n",
    "BATCH_SIZE = 16\n",
    "LEARNING_RATE = 2e-5\n",
    "EPOCHS = 10\n",
    "\n",
    "CONTEXT_PATH = \"\"\n",
    "CHECKPOINT_DIR = f\"{CONTEXT_PATH}checkpoints\"\n",
    "\n",
    "TRAIN_JSON_PATH = f\"{CONTEXT_PATH}data/train.jsonl\"\n",
    "VAL_JSON_PATH = f\"{CONTEXT_PATH}data/dev.jsonl\"\n",
    "TEST_JSON_PATH = f\"{CONTEXT_PATH}data/test.jsonl\"\n",
    "\n",
    "LABEL_CACHE_PATH = f\"{CONTEXT_PATH}processing_data/event_types.json\"\n",
    "TRAIN_CACHE_PATH = f\"{CONTEXT_PATH}processing_data/train.json\"\n",
    "VAL_CACHE_PATH = f\"{CONTEXT_PATH}processing_data/dev.json\"\n",
    "TEST_CACHE_PATH = f\"{CONTEXT_PATH}processing_data/test.json\""
   ]
  },
  {
   "cell_type": "code",
   "execution_count": 4,
   "id": "ed5d6310",
   "metadata": {},
   "outputs": [
    {
     "name": "stdout",
     "output_type": "stream",
     "text": [
      "Loaded labels from processing_data/event_types.json\n"
     ]
    },
    {
     "data": {
      "text/plain": [
       "1"
      ]
     },
     "execution_count": 4,
     "metadata": {},
     "output_type": "execute_result"
    }
   ],
   "source": [
    "#get event type\n",
    "event_types = build_labels(TRAIN_JSON_PATH, LABEL_CACHE_PATH)\n",
    "tokenizer = AutoTokenizer.from_pretrained(MODEL_NAME)\n",
    "special_tokens = [\"<tgr>\"]\n",
    "tokenizer.add_tokens(special_tokens)"
   ]
  },
  {
   "cell_type": "code",
   "execution_count": 5,
   "id": "abf94481",
   "metadata": {},
   "outputs": [
    {
     "name": "stdout",
     "output_type": "stream",
     "text": [
      "Loading processed dataset from processing_data/train.json\n",
      "Loading processed dataset from processing_data/dev.json\n",
      "Loading processed dataset from processing_data/test.json\n"
     ]
    }
   ],
   "source": [
    "train_dataset = WikiEventsSentenceDataset(TRAIN_JSON_PATH, tokenizer, MAX_LENGTH, TRAIN_CACHE_PATH)\n",
    "val_dataset = WikiEventsSentenceDataset(VAL_JSON_PATH, tokenizer, MAX_LENGTH, VAL_CACHE_PATH)\n",
    "test_dataset = WikiEventsSentenceDataset(TEST_JSON_PATH, tokenizer, MAX_LENGTH, TEST_CACHE_PATH)"
   ]
  },
  {
   "cell_type": "code",
   "execution_count": 6,
   "id": "744e74f2",
   "metadata": {},
   "outputs": [],
   "source": [
    "train_triplet_dataset = EventTripletDataset(train_dataset, event_types, tokenizer, MAX_LENGTH)\n",
    "val_triplet_dataset = EventTripletDataset(val_dataset, event_types, tokenizer, MAX_LENGTH)\n",
    "test_triplet_dataset = EventTripletDataset(test_dataset, event_types, tokenizer, MAX_LENGTH)"
   ]
  },
  {
   "cell_type": "code",
   "execution_count": 7,
   "id": "0c6b1e39",
   "metadata": {},
   "outputs": [],
   "source": [
    "train_loader = DataLoader(train_triplet_dataset, batch_size=BATCH_SIZE, shuffle=True)\n",
    "val_loader = DataLoader(val_triplet_dataset, batch_size=BATCH_SIZE, shuffle=True)\n",
    "test_loader = DataLoader(test_triplet_dataset, batch_size=BATCH_SIZE, shuffle=True)"
   ]
  },
  {
   "cell_type": "code",
   "execution_count": 8,
   "id": "121cd305",
   "metadata": {},
   "outputs": [],
   "source": [
    "sentence = \"Roadside IED <tgr> kills </tgr> Russian major general in Syria\"\n",
    "top_k = 3"
   ]
  },
  {
   "cell_type": "code",
   "execution_count": 9,
   "id": "176edeb4",
   "metadata": {},
   "outputs": [
    {
     "name": "stderr",
     "output_type": "stream",
     "text": [
      "Some weights of RobertaModel were not initialized from the model checkpoint at roberta-base and are newly initialized: ['pooler.dense.bias', 'pooler.dense.weight']\n",
      "You should probably TRAIN this model on a down-stream task to be able to use it for predictions and inference.\n"
     ]
    },
    {
     "ename": "AttributeError",
     "evalue": "'EventRetrieverFineTune' object has no attribute 'resize_token_embeddings'",
     "output_type": "error",
     "traceback": [
      "\u001b[31m---------------------------------------------------------------------------\u001b[39m",
      "\u001b[31mAttributeError\u001b[39m                            Traceback (most recent call last)",
      "\u001b[36mCell\u001b[39m\u001b[36m \u001b[39m\u001b[32mIn[9]\u001b[39m\u001b[32m, line 2\u001b[39m\n\u001b[32m      1\u001b[39m model = EventRetrieverFineTune(MODEL_NAME)\n\u001b[32m----> \u001b[39m\u001b[32m2\u001b[39m trainer = \u001b[43mEventRetrieverTrainer\u001b[49m\u001b[43m(\u001b[49m\n\u001b[32m      3\u001b[39m \u001b[43m    \u001b[49m\u001b[43mmodel\u001b[49m\u001b[43m \u001b[49m\u001b[43m=\u001b[49m\u001b[43m \u001b[49m\u001b[43mmodel\u001b[49m\u001b[43m,\u001b[49m\n\u001b[32m      4\u001b[39m \u001b[43m    \u001b[49m\u001b[43mtokenizer\u001b[49m\u001b[43m \u001b[49m\u001b[43m=\u001b[49m\u001b[43m \u001b[49m\u001b[43mtokenizer\u001b[49m\u001b[43m,\u001b[49m\n\u001b[32m      5\u001b[39m \u001b[43m    \u001b[49m\u001b[43mtrain_loader\u001b[49m\u001b[43m=\u001b[49m\u001b[43mtrain_loader\u001b[49m\u001b[43m,\u001b[49m\u001b[43m  \u001b[49m\n\u001b[32m      6\u001b[39m \u001b[43m    \u001b[49m\u001b[43mval_loader\u001b[49m\u001b[43m \u001b[49m\u001b[43m=\u001b[49m\u001b[43m \u001b[49m\u001b[43mval_loader\u001b[49m\u001b[43m,\u001b[49m\n\u001b[32m      7\u001b[39m \u001b[43m    \u001b[49m\u001b[43mevent_types\u001b[49m\u001b[43m \u001b[49m\u001b[43m=\u001b[49m\u001b[43m \u001b[49m\u001b[43mevent_types\u001b[49m\u001b[43m,\u001b[49m\n\u001b[32m      8\u001b[39m \u001b[43m    \u001b[49m\u001b[43mdevice\u001b[49m\u001b[43m \u001b[49m\u001b[43m=\u001b[49m\u001b[43m \u001b[49m\u001b[43mdevice\u001b[49m\u001b[43m,\u001b[49m\n\u001b[32m      9\u001b[39m \u001b[43m    \u001b[49m\u001b[43mbatch_size\u001b[49m\u001b[43m \u001b[49m\u001b[43m=\u001b[49m\u001b[43m \u001b[49m\u001b[43mBATCH_SIZE\u001b[49m\u001b[43m,\u001b[49m\n\u001b[32m     10\u001b[39m \u001b[43m    \u001b[49m\u001b[43mlr\u001b[49m\u001b[43m \u001b[49m\u001b[43m=\u001b[49m\u001b[43m \u001b[49m\u001b[43mLEARNING_RATE\u001b[49m\u001b[43m,\u001b[49m\n\u001b[32m     11\u001b[39m \u001b[43m    \u001b[49m\u001b[43mepochs\u001b[49m\u001b[43m \u001b[49m\u001b[43m=\u001b[49m\u001b[43m \u001b[49m\u001b[43mEPOCHS\u001b[49m\u001b[43m,\u001b[49m\n\u001b[32m     12\u001b[39m \u001b[43m    \u001b[49m\u001b[43mcheckpoint_dir\u001b[49m\u001b[43m \u001b[49m\u001b[43m=\u001b[49m\u001b[43m \u001b[49m\u001b[43mCHECKPOINT_DIR\u001b[49m\n\u001b[32m     13\u001b[39m \u001b[43m)\u001b[49m\n",
      "\u001b[36mFile \u001b[39m\u001b[32m~/development/2025_code/event_extraction/src/eventtype_finetune.py:26\u001b[39m, in \u001b[36mEventRetrieverTrainer.__init__\u001b[39m\u001b[34m(self, model, tokenizer, train_loader, val_loader, event_types, device, batch_size, lr, epochs, max_length, checkpoint_dir)\u001b[39m\n\u001b[32m     23\u001b[39m \u001b[38;5;28;01mdef\u001b[39;00m\u001b[38;5;250m \u001b[39m\u001b[34m__init__\u001b[39m(\u001b[38;5;28mself\u001b[39m, model, tokenizer, train_loader, val_loader, event_types, device,\n\u001b[32m     24\u001b[39m              batch_size=\u001b[32m16\u001b[39m, lr=\u001b[32m2e-5\u001b[39m, epochs=\u001b[32m3\u001b[39m, max_length=\u001b[32m128\u001b[39m, checkpoint_dir=\u001b[33m\"\u001b[39m\u001b[33m./checkpoints\u001b[39m\u001b[33m\"\u001b[39m):\n\u001b[32m     25\u001b[39m     \u001b[38;5;28mself\u001b[39m.model = model.to(device)\n\u001b[32m---> \u001b[39m\u001b[32m26\u001b[39m     \u001b[38;5;28;43mself\u001b[39;49m\u001b[43m.\u001b[49m\u001b[43mmodel\u001b[49m\u001b[43m.\u001b[49m\u001b[43mresize_token_embeddings\u001b[49m(\u001b[38;5;28mlen\u001b[39m(tokenizer))\n\u001b[32m     27\u001b[39m     \u001b[38;5;28mself\u001b[39m.tokenizer = tokenizer\n\u001b[32m     28\u001b[39m     \u001b[38;5;28mself\u001b[39m.device = device\n",
      "\u001b[36mFile \u001b[39m\u001b[32m~/development/2025_code/event_extraction/.venv/lib/python3.11/site-packages/torch/nn/modules/module.py:1962\u001b[39m, in \u001b[36mModule.__getattr__\u001b[39m\u001b[34m(self, name)\u001b[39m\n\u001b[32m   1960\u001b[39m     \u001b[38;5;28;01mif\u001b[39;00m name \u001b[38;5;129;01min\u001b[39;00m modules:\n\u001b[32m   1961\u001b[39m         \u001b[38;5;28;01mreturn\u001b[39;00m modules[name]\n\u001b[32m-> \u001b[39m\u001b[32m1962\u001b[39m \u001b[38;5;28;01mraise\u001b[39;00m \u001b[38;5;167;01mAttributeError\u001b[39;00m(\n\u001b[32m   1963\u001b[39m     \u001b[33mf\u001b[39m\u001b[33m\"\u001b[39m\u001b[33m'\u001b[39m\u001b[38;5;132;01m{\u001b[39;00m\u001b[38;5;28mtype\u001b[39m(\u001b[38;5;28mself\u001b[39m).\u001b[34m__name__\u001b[39m\u001b[38;5;132;01m}\u001b[39;00m\u001b[33m'\u001b[39m\u001b[33m object has no attribute \u001b[39m\u001b[33m'\u001b[39m\u001b[38;5;132;01m{\u001b[39;00mname\u001b[38;5;132;01m}\u001b[39;00m\u001b[33m'\u001b[39m\u001b[33m\"\u001b[39m\n\u001b[32m   1964\u001b[39m )\n",
      "\u001b[31mAttributeError\u001b[39m: 'EventRetrieverFineTune' object has no attribute 'resize_token_embeddings'"
     ]
    }
   ],
   "source": [
    "model = EventRetrieverFineTune(MODEL_NAME)\n",
    "trainer = EventRetrieverTrainer(\n",
    "    model = model,\n",
    "    tokenizer = tokenizer,\n",
    "    train_loader=train_loader,  \n",
    "    val_loader = val_loader,\n",
    "    event_types = event_types,\n",
    "    device = device,\n",
    "    batch_size = BATCH_SIZE,\n",
    "    lr = LEARNING_RATE,\n",
    "    epochs = EPOCHS,\n",
    "    checkpoint_dir = CHECKPOINT_DIR\n",
    ")"
   ]
  },
  {
   "cell_type": "code",
   "execution_count": null,
   "id": "66819a01",
   "metadata": {},
   "outputs": [],
   "source": [
    "start = time.time()\n",
    "trainer.train()\n",
    "end = time.time()\n",
    "\n",
    "elapsed = end - start\n",
    "print(f\"⏱ Training finished in {elapsed:.2f} seconds ({elapsed/60:.2f} minutes)\")"
   ]
  },
  {
   "cell_type": "code",
   "execution_count": null,
   "id": "4fc9bcf4",
   "metadata": {},
   "outputs": [],
   "source": [
    "avg_test_loss = trainer.evaluate(test_loader)\n",
    "print(f\"Test Loss: {avg_test_loss:.4f}\")"
   ]
  },
  {
   "cell_type": "code",
   "execution_count": null,
   "id": "0b473804",
   "metadata": {},
   "outputs": [],
   "source": [
    "retriever = EventTypeRetriever(\n",
    "    model_name=f\"{CHECKPOINT_DIR}/retrieve_best_model\",\n",
    "    device=device,\n",
    "    event_types=event_types\n",
    ")"
   ]
  },
  {
   "cell_type": "code",
   "execution_count": null,
   "id": "b87fa48b",
   "metadata": {},
   "outputs": [],
   "source": [
    "retriever.retrieve(sentence, topk=top_k)"
   ]
  }
 ],
 "metadata": {
  "kernelspec": {
   "display_name": ".venv",
   "language": "python",
   "name": "python3"
  },
  "language_info": {
   "codemirror_mode": {
    "name": "ipython",
    "version": 3
   },
   "file_extension": ".py",
   "mimetype": "text/x-python",
   "name": "python",
   "nbconvert_exporter": "python",
   "pygments_lexer": "ipython3",
   "version": "3.11.0"
  }
 },
 "nbformat": 4,
 "nbformat_minor": 5
}
