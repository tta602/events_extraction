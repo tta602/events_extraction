{
 "cells": [
  {
   "cell_type": "code",
   "execution_count": null,
   "id": "15111dda",
   "metadata": {},
   "outputs": [],
   "source": [
    "# from google.colab import drive\n",
    "# drive.mount('/content/drive')\n",
    "# DATA_PATH = '/content/drive/MyDrive/hw004/'"
   ]
  },
  {
   "cell_type": "code",
   "execution_count": null,
   "id": "4f73ca3d",
   "metadata": {},
   "outputs": [],
   "source": [
    "import json\n",
    "import torch\n",
    "from torch.utils.data import Dataset, DataLoader\n",
    "from transformers import AutoTokenizer, AutoModelForSequenceClassification\n",
    "from tqdm import tqdm\n",
    "from torch.utils.data import DataLoader\n",
    "import torch\n",
    "import os\n",
    "from src.eventtriplet_dataset import EventTripletDataset\n",
    "from src.eventtype_finetune import EventRetrieverFineTune, EventRetrieverTrainer\n",
    "from src.utils.device_util import getDeviceInfo\n",
    "from src.utils.data_utils import build_label_maps, build_labels\n",
    "from src.eventtype_retriever import EventTypeRetriever\n",
    "from src.wikievents_dataset import WikiEventsSentenceDataset"
   ]
  },
  {
   "cell_type": "code",
   "execution_count": null,
   "id": "2588501e",
   "metadata": {},
   "outputs": [],
   "source": [
    "device = getDeviceInfo()\n",
    "print(f\"Device info::: {device}\")\n",
    "\n",
    "MODEL_NAME = \"roberta-base\"\n",
    "\n",
    "MAX_LENGTH = 256\n",
    "BATCH_SIZE = 8\n",
    "LEARNING_RATE = 1e-5\n",
    "EPOCHS = 1\n",
    "\n",
    "CONTEXT_PATH = \"\"\n",
    "CHECKPOINT_DIR = f\"{CONTEXT_PATH}checkpoints\"\n",
    "\n",
    "TRAIN_JSON_PATH = f\"{CONTEXT_PATH}data/train.jsonl\"\n",
    "VAL_JSON_PATH = f\"{CONTEXT_PATH}data/dev.jsonl\"\n",
    "TEST_JSON_PATH = f\"{CONTEXT_PATH}data/test.jsonl\"\n",
    "\n",
    "LABEL_CACHE_PATH = f\"{CONTEXT_PATH}processing_data/event_types.json\"\n",
    "TRAIN_CACHE_PATH = f\"{CONTEXT_PATH}processing_data/train.json\"\n",
    "VAL_CACHE_PATH = f\"{CONTEXT_PATH}processing_data/dev.json\"\n",
    "TEST_CACHE_PATH = f\"{CONTEXT_PATH}processing_data/test.json\"\n",
    "\n",
    "#get event type\n",
    "event_types = build_labels(TRAIN_JSON_PATH, LABEL_CACHE_PATH)\n"
   ]
  },
  {
   "cell_type": "code",
   "execution_count": null,
   "id": "0fccdf6f",
   "metadata": {},
   "outputs": [],
   "source": [
    "tokenizer = AutoTokenizer.from_pretrained(MODEL_NAME)\n",
    "special_tokens = [\"<tgr>\"]\n",
    "tokenizer.add_tokens(special_tokens)\n"
   ]
  },
  {
   "cell_type": "code",
   "execution_count": null,
   "id": "415fa4a2",
   "metadata": {},
   "outputs": [],
   "source": [
    "\n",
    "# Dataset & Dataloader\n",
    "#file_path, tokenizer, label2id, max_length=128, cache_path=None\n",
    "train_dataset = WikiEventsSentenceDataset(TRAIN_JSON_PATH, tokenizer, MAX_LENGTH, TRAIN_CACHE_PATH)\n",
    "val_dataset = WikiEventsSentenceDataset(VAL_JSON_PATH, tokenizer, MAX_LENGTH, VAL_CACHE_PATH)\n",
    "test_dataset = WikiEventsSentenceDataset(TEST_JSON_PATH, tokenizer, MAX_LENGTH, TEST_CACHE_PATH)\n",
    "\n",
    "train_triplet_dataset = EventTripletDataset(train_dataset, event_types, tokenizer, MAX_LENGTH)\n",
    "val_triplet_dataset = EventTripletDataset(val_dataset, event_types, tokenizer, MAX_LENGTH)\n",
    "test_triplet_dataset = EventTripletDataset(test_dataset, event_types, tokenizer, MAX_LENGTH)\n",
    "\n",
    "train_loader = DataLoader(train_triplet_dataset, batch_size=BATCH_SIZE, shuffle=True)\n",
    "val_loader = DataLoader(val_triplet_dataset, batch_size=BATCH_SIZE, shuffle=False)\n",
    "test_loader = DataLoader(test_triplet_dataset, batch_size=BATCH_SIZE, shuffle=False)\n"
   ]
  },
  {
   "cell_type": "code",
   "execution_count": null,
   "id": "6cb74b4c",
   "metadata": {},
   "outputs": [],
   "source": [
    "sentence = \"Roadside IED <tgr> kills </tgr> Russian major general in Syria\"\n",
    "top_k = 3\n",
    "\n",
    "retriever = EventTypeRetriever(model_name=MODEL_NAME, device=device, event_types=event_types, tokenizer=tokenizer, max_length=MAX_LENGTH)\n",
    "print(retriever.retrieve(sentence, topk=top_k))"
   ]
  },
  {
   "cell_type": "code",
   "execution_count": null,
   "id": "67c82bc0",
   "metadata": {},
   "outputs": [],
   "source": [
    "model = EventRetrieverFineTune(MODEL_NAME)\n",
    "model.encoder.resize_token_embeddings(len(tokenizer)) "
   ]
  },
  {
   "cell_type": "code",
   "execution_count": null,
   "id": "4f702e9b",
   "metadata": {},
   "outputs": [],
   "source": [
    "trainer = EventRetrieverTrainer(\n",
    "    model = model,\n",
    "    tokenizer = tokenizer,\n",
    "    train_loader=train_loader,  \n",
    "    val_loader = val_loader,\n",
    "    event_types = event_types,\n",
    "    device = device,\n",
    "    batch_size = BATCH_SIZE,\n",
    "    lr = LEARNING_RATE,\n",
    "    epochs = EPOCHS,\n",
    "    checkpoint_dir = CHECKPOINT_DIR\n",
    ")\n",
    "\n",
    "trainer.train()"
   ]
  },
  {
   "cell_type": "code",
   "execution_count": null,
   "id": "336aca5b",
   "metadata": {},
   "outputs": [],
   "source": [
    "avg_test_loss = trainer.test(test_loader)\n",
    "\n",
    "retriever = EventTypeRetriever(\n",
    "    model_name=f\"{CHECKPOINT_DIR}/retrieve_best_model\",\n",
    "    device=device,\n",
    "    tokenizer=tokenizer,\n",
    "    event_types=event_types,\n",
    "    max_length=MAX_LENGTH\n",
    ")\n",
    "\n",
    "print(retriever.retrieve(sentence, topk=top_k))"
   ]
  }
 ],
 "metadata": {
  "kernelspec": {
   "display_name": ".venv",
   "language": "python",
   "name": "python3"
  },
  "language_info": {
   "codemirror_mode": {
    "name": "ipython",
    "version": 3
   },
   "file_extension": ".py",
   "mimetype": "text/x-python",
   "name": "python",
   "nbconvert_exporter": "python",
   "pygments_lexer": "ipython3",
   "version": "3.11.0"
  }
 },
 "nbformat": 4,
 "nbformat_minor": 5
}
